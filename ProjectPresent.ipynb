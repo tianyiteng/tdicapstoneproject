{
 "cells": [
  {
   "cell_type": "markdown",
   "metadata": {},
   "source": [
    "# \t            \t\t\t((**Please download to view. Some content won't show in github preview**))\n",
    "\n",
    "# \t            \t\t\tThe Data Incubator Capstone Project:\n",
    "\n",
    "## - Improve NYC Traffic by Simulation of Traffic Flow and Modeling the redlight Timing\n",
    "\n"
   ]
  },
  {
   "cell_type": "markdown",
   "metadata": {},
   "source": [
    " "
   ]
  },
  {
   "cell_type": "markdown",
   "metadata": {},
   "source": [
    " <img style=\"float: middel;\" src=\"https://github.com/tianyiteng/tdicapstoneproject/raw/master/nyc_bird_eye.jpg\",width=600,height=600>\n",
    "\n",
    "\n"
   ]
  },
  {
   "cell_type": "markdown",
   "metadata": {},
   "source": [
    "<img style=\"float: middel;\" src=\"https://github.com/tianyiteng/tdicapstoneproject/raw/master/traffic_intersection.gif\",width=800,height=800> "
   ]
  },
  {
   "cell_type": "markdown",
   "metadata": {},
   "source": [
    " "
   ]
  },
  {
   "cell_type": "markdown",
   "metadata": {
    "collapsed": true
   },
   "source": [
    " "
   ]
  },
  {
   "cell_type": "markdown",
   "metadata": {
    "collapsed": true
   },
   "source": [
    " "
   ]
  },
  {
   "cell_type": "markdown",
   "metadata": {},
   "source": [
    "\n",
    "\n",
    "# Database & Tools:\n",
    "### NYC Taxi record for pick-up/drop-off location, travel time, etc. \n",
    "### Google Navigation API"
   ]
  },
  {
   "cell_type": "markdown",
   "metadata": {},
   "source": [
    "<tr>\n",
    "    <td> <img style=\"float: left;\" src=\"https://github.com/tianyiteng/tdicapstoneproject/raw/master/plot2.gif\",width=600,height=600></td>\n",
    "       <td> <img style=\"float: right\" src=\"https://github.com/tianyiteng/tdicapstoneproject/raw/master/multirun.gif\",width=380,height=480> </td>\n",
    "        <td> <img style=\"float: left\" src=\"https://github.com/tianyiteng/tdicapstoneproject/raw/master/multirun_uniformspeed.gif\",width=380,height=480> </td>\n",
    "\n",
    "\n",
    "\n",
    "</tr>\n",
    "\n",
    "\n",
    "\n"
   ]
  },
  {
   "cell_type": "markdown",
   "metadata": {
    "collapsed": true
   },
   "source": [
    "# Evaluate whole map"
   ]
  },
  {
   "cell_type": "markdown",
   "metadata": {},
   "source": [
    "<img style=\"float: middle;\" src=\"https://github.com/tianyiteng/tdicapstoneproject/raw/master/plot1.png\",width=1000,height=1000>\n"
   ]
  },
  {
   "cell_type": "markdown",
   "metadata": {},
   "source": [
    "# Model the red-light timing\n",
    "## Study locally"
   ]
  },
  {
   "cell_type": "markdown",
   "metadata": {},
   "source": [
    "### Chose 9th Ave, west of time square as our study area, targeting 10 cross sections. It's showed by the stars in the left figure. The \"waiting area\" at each intersection is defined by the figure on the right."
   ]
  },
  {
   "cell_type": "markdown",
   "metadata": {},
   "source": [
    "<tr>\n",
    "<td> <img style=\"float: middle;\" src=\"https://github.com/tianyiteng/tdicapstoneproject/raw/master/study_area.png\",width=280,height=380></td>\n",
    "<td> <img style=\"float: middle\" src=\"https://github.com/tianyiteng/tdicapstoneproject/raw/master/redlight_area.png\",width=60,height=60> </td>\n",
    "</tr> "
   ]
  },
  {
   "cell_type": "markdown",
   "metadata": {},
   "source": [
    "# Model 1 - uniform timing"
   ]
  },
  {
   "cell_type": "markdown",
   "metadata": {},
   "source": [
    "<table>\n",
    "<tr valign=\"middle\">\n",
    "<td> <img style=\"float: middle;\" src=\"https://github.com/tianyiteng/tdicapstoneproject/raw/master/timing_model1.gif\",width=450,height=550></td>\n",
    "<td> \n",
    "<p><font size=\"4\" color=\"black\">Uniform timing at all intersection, same timing for both direction</font> </p>\n",
    "<p><font size=\"4\" color=\"black\">RESULT:</font> </p>\n",
    "<p><font size=\"4\" color=\"black\">Red light count:    245</font> </p>\n",
    "<p><font size=\"4\" color=\"black\">Average waiting time: 20.9s per stop </font> </p>\n",
    "</td>\n",
    "</tr> \n",
    "</table>"
   ]
  },
  {
   "cell_type": "markdown",
   "metadata": {},
   "source": [
    "# Model 2 - longer green time on N-S direction"
   ]
  },
  {
   "cell_type": "markdown",
   "metadata": {},
   "source": [
    "<table>\n",
    "<tr valign=\"middle\">\n",
    "<td> <img style=\"float: middle;\" src=\"https://github.com/tianyiteng/tdicapstoneproject/raw/master/timing_model2.gif\",width=450,height=650></td>\n",
    "<td> \n",
    "<p><font size=\"4\" color=\"black\">Uniform timing at all intersection, but longer green-light time for N-S direction</font> </p>\n",
    "<p><font size=\"4\" color=\"black\">RESULT:</font> </p>\n",
    "<p><font size=\"4\" color=\"black\">Red light count:    178</font> </p>\n",
    "<p><font size=\"4\" color=\"black\">Average waiting time: 15.83s per stop </font> </p>\n",
    "</td>\n",
    "</tr> \n",
    "</table>"
   ]
  },
  {
   "cell_type": "markdown",
   "metadata": {},
   "source": [
    "# Model 3 - with time shift"
   ]
  },
  {
   "cell_type": "markdown",
   "metadata": {},
   "source": [
    "<table>\n",
    "<tr valign=\"middle\">\n",
    "<td> <img style=\"float: middle;\" src=\"https://github.com/tianyiteng/tdicapstoneproject/raw/master/timing_model3.gif\",width=450,height=650></td>\n",
    "<td> \n",
    "<p><font size=\"4\" color=\"black\">Same timing for both direction, with a time shift for different intersection</font> </p>\n",
    "<p><font size=\"4\" color=\"black\">RESULT:</font> </p>\n",
    "<p><font size=\"4\" color=\"black\">Red light count:    178</font> </p>\n",
    "<p><font size=\"4\" color=\"black\">Average waiting time: 14.47s per stop </font> </p>\n",
    "</td>\n",
    "</tr> \n",
    "</table>"
   ]
  },
  {
   "cell_type": "markdown",
   "metadata": {},
   "source": [
    "# Customized Model\n",
    "\n",
    "### User interface by heroku -under construction"
   ]
  },
  {
   "cell_type": "markdown",
   "metadata": {},
   "source": [
    "Red_light_timing_scheme is defined by (WE direction time, NS direction time, Time shift)\n",
    "\n",
    "By the input format\n",
    "   \n",
    "       [30 30 0\n",
    "        30 30 3        \n",
    "        30 30 6\n",
    "        30 30 9\n",
    "        30 30 12\n",
    "        30 30 15\n",
    "        30 30 18\n",
    "        30 30 21\n",
    "        30 30 24\n",
    "        30 30 27]\n",
    "        \n",
    "We are able to calculate the average wait time, median wait time, stop counts, etc"
   ]
  },
  {
   "cell_type": "markdown",
   "metadata": {},
   "source": [
    "Source Code in https://github.com/tianyiteng/tdicapstoneproject"
   ]
  }
 ],
 "metadata": {
  "anaconda-cloud": {},
  "kernelspec": {
   "display_name": "Python [default]",
   "language": "python",
   "name": "python3"
  },
  "language_info": {
   "codemirror_mode": {
    "name": "ipython",
    "version": 3
   },
   "file_extension": ".py",
   "mimetype": "text/x-python",
   "name": "python",
   "nbconvert_exporter": "python",
   "pygments_lexer": "ipython3",
   "version": "3.5.2"
  }
 },
 "nbformat": 4,
 "nbformat_minor": 1
}
